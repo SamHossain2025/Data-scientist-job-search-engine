{
 "cells": [
  {
   "cell_type": "markdown",
   "id": "2a472375",
   "metadata": {
    "papermill": {
     "duration": 0.003812,
     "end_time": "2025-04-21T04:55:38.805191",
     "exception": false,
     "start_time": "2025-04-21T04:55:38.801379",
     "status": "completed"
    },
    "tags": []
   },
   "source": [
    "# 🔍 AI-Powered Data Scientist Job Search Engine  \n",
    "*Personalized Job Matching with Gemini + Semantic Search*\n",
    "\n",
    "---\n",
    "\n",
    "## 👋 Introduction\n",
    "\n",
    "As I near graduation from the **Master of Management Analytics program at Smith School of Business, Queen’s University**, I find myself navigating the increasingly competitive world of data science careers. This program is widely regarded as Canada’s equivalent to a master’s degree in data science, and it has equipped me with deep analytical, AI, and machine learning skills.\n",
    "\n",
    "But one real-world challenge still remains: **finding the right job**. Scanning hundreds of listings, manually evaluating job descriptions, comparing roles with my unique profile—it’s time-consuming, inconsistent, and inefficient.\n",
    "\n",
    "This inspired me to tackle a **problem that’s deeply personal and timely**:  \n",
    "> 📌 **Can we use GenAI to intelligently search, evaluate, and recommend jobs that align with our exact strengths and goals—just like a personalized job coach?**\n",
    "\n",
    "---\n",
    "\n",
    "## 🛠️ What This Project Does\n",
    "\n",
    "This Capstone project presents an **AI-powered job recommendation engine** that leverages the capabilities of the Google Gemini API. It scrapes real-time job listings, embeds job descriptions using LLM-generated vectors, matches them with the candidate’s profile, and generates structured recommendations with **natural-language reasoning** on why each job is a fit.\n",
    "\n",
    "This isn’t just a prototype—it’s my actual job search assistant, built with the tools and techniques I’ve learned from the **5-Day GenAI Intensive Course by Google & Kaggle**.\n",
    "\n",
    "---\n",
    "\n",
    "## ✅ Capstone Guidelines Fulfilled\n",
    "\n",
    "### 🎯 Real-World Use Case\n",
    "- Directly solves a meaningful problem for data/AI graduates and professionals\n",
    "- Personalized, practical, and scalable\n",
    "\n",
    "### 🧠 GenAI Capabilities Demonstrated\n",
    "- **Embeddings** – using `text-embedding-004` to encode job descriptions and match them to user profiles\n",
    "- **Structured Output (JSON Mode)** – generating concise, schema-based job-to-candidate match justifications\n",
    "- **Semantic Similarity & Ranking** – vector-based scoring of job relevance using Gemini + ChromaDB\n",
    "\n",
    "### 🖥️ Additional Features\n",
    "- Prioritization by **recency** and **location relevance**\n",
    "- Clean, dark-themed **HTML output** for professional display\n",
    "- Rate-limit friendly execution with Gemini’s usage patterns in mind\n",
    "\n",
    "---\n",
    "\n",
    "> This is more than a school project—it's a working, real-life solution built at the intersection of career needs and GenAI innovation.\n"
   ]
  },
  {
   "cell_type": "code",
   "execution_count": 1,
   "id": "f5b43332",
   "metadata": {
    "execution": {
     "iopub.execute_input": "2025-04-21T04:55:38.816556Z",
     "iopub.status.busy": "2025-04-21T04:55:38.816203Z",
     "iopub.status.idle": "2025-04-21T04:56:05.462045Z",
     "shell.execute_reply": "2025-04-21T04:56:05.457841Z"
    },
    "id": "6f523f29",
    "papermill": {
     "duration": 26.65597,
     "end_time": "2025-04-21T04:56:05.464581",
     "exception": false,
     "start_time": "2025-04-21T04:55:38.808611",
     "status": "completed"
    },
    "tags": []
   },
   "outputs": [],
   "source": [
    "!pip install -qU google-genai chromadb requests beautifulsoup4 > /dev/null 2>&1"
   ]
  },
  {
   "cell_type": "markdown",
   "id": "f39dc6bd",
   "metadata": {
    "id": "ba65e81e",
    "papermill": {
     "duration": 0.002792,
     "end_time": "2025-04-21T04:56:05.470765",
     "exception": false,
     "start_time": "2025-04-21T04:56:05.467973",
     "status": "completed"
    },
    "tags": []
   },
   "source": [
    "## 🔐 Set Up Gemini API via Kaggle Secrets"
   ]
  },
  {
   "cell_type": "code",
   "execution_count": 2,
   "id": "2085ff54",
   "metadata": {
    "execution": {
     "iopub.execute_input": "2025-04-21T04:56:05.481237Z",
     "iopub.status.busy": "2025-04-21T04:56:05.480983Z",
     "iopub.status.idle": "2025-04-21T04:56:06.827712Z",
     "shell.execute_reply": "2025-04-21T04:56:06.821879Z"
    },
    "id": "da623631",
    "papermill": {
     "duration": 1.356412,
     "end_time": "2025-04-21T04:56:06.831075",
     "exception": false,
     "start_time": "2025-04-21T04:56:05.474663",
     "status": "completed"
    },
    "tags": []
   },
   "outputs": [],
   "source": [
    "\n",
    "from kaggle_secrets import UserSecretsClient\n",
    "import os\n",
    "from google import genai\n",
    "\n",
    "secrets = UserSecretsClient()\n",
    "GOOGLE_API_KEY = secrets.get_secret(\"GOOGLE_API_KEY\")\n",
    "os.environ[\"GOOGLE_API_KEY\"] = GOOGLE_API_KEY\n",
    "client = genai.Client(api_key=GOOGLE_API_KEY)\n"
   ]
  },
  {
   "cell_type": "markdown",
   "id": "04b0d931",
   "metadata": {
    "id": "0c5bf06e",
    "papermill": {
     "duration": 0.003151,
     "end_time": "2025-04-21T04:56:06.837238",
     "exception": false,
     "start_time": "2025-04-21T04:56:06.834087",
     "status": "completed"
    },
    "tags": []
   },
   "source": [
    "## 🌐 Scrape LinkedIn for Data Scientist Jobs"
   ]
  },
  {
   "cell_type": "code",
   "execution_count": 3,
   "id": "5f235b8a",
   "metadata": {
    "execution": {
     "iopub.execute_input": "2025-04-21T04:56:06.847210Z",
     "iopub.status.busy": "2025-04-21T04:56:06.846958Z",
     "iopub.status.idle": "2025-04-21T04:56:09.017678Z",
     "shell.execute_reply": "2025-04-21T04:56:09.013267Z"
    },
    "id": "f75b8b0d",
    "papermill": {
     "duration": 2.180171,
     "end_time": "2025-04-21T04:56:09.020138",
     "exception": false,
     "start_time": "2025-04-21T04:56:06.839967",
     "status": "completed"
    },
    "tags": []
   },
   "outputs": [
    {
     "data": {
      "text/plain": [
       "30"
      ]
     },
     "execution_count": 3,
     "metadata": {},
     "output_type": "execute_result"
    }
   ],
   "source": [
    "\n",
    "import requests\n",
    "from bs4 import BeautifulSoup\n",
    "\n",
    "def scrape_linkedin_jobs(query, location=\"Canada\", pages=3):\n",
    "    jobs = []\n",
    "    for page in range(pages):\n",
    "        url = f\"https://ca.linkedin.com/jobs-guest/jobs/api/seeMoreJobPostings/search?keywords={query}&location={location}&start={page*25}\"\n",
    "        headers = {\"User-Agent\": \"Mozilla/5.0\"}\n",
    "        soup = BeautifulSoup(requests.get(url, headers=headers).content, \"html.parser\")\n",
    "        for job in soup.select(\".base-card\"):\n",
    "            if job.select_one(\".base-search-card__title\"):\n",
    "                jobs.append({\n",
    "                    \"title\": job.select_one(\".base-search-card__title\").text.strip(),\n",
    "                    \"company\": job.select_one(\".base-search-card__subtitle\").text.strip(),\n",
    "                    \"location\": job.select_one(\".job-search-card__location\").text.strip(),\n",
    "                    \"link\": job.select_one(\"a\")['href'],\n",
    "                    \"posted\": job.select_one(\"time\")['datetime'] if job.select_one(\"time\") else \"Unknown\",\n",
    "                    \"salary\": job.select_one(\".salary-snippet\").text.strip() if job.select_one(\".salary-snippet\") else \"Not listed\"\n",
    "                })\n",
    "    return jobs\n",
    "\n",
    "jobs = scrape_linkedin_jobs(\"Data Scientist\")\n",
    "len(jobs)\n"
   ]
  },
  {
   "cell_type": "markdown",
   "id": "4feeae15",
   "metadata": {
    "id": "4c444d0d",
    "papermill": {
     "duration": 0.003119,
     "end_time": "2025-04-21T04:56:09.026389",
     "exception": false,
     "start_time": "2025-04-21T04:56:09.023270",
     "status": "completed"
    },
    "tags": []
   },
   "source": [
    "## 🧠 Embed Job Descriptions for Semantic Matching"
   ]
  },
  {
   "cell_type": "code",
   "execution_count": 4,
   "id": "f50814fe",
   "metadata": {
    "execution": {
     "iopub.execute_input": "2025-04-21T04:56:09.035709Z",
     "iopub.status.busy": "2025-04-21T04:56:09.035450Z",
     "iopub.status.idle": "2025-04-21T04:56:10.668742Z",
     "shell.execute_reply": "2025-04-21T04:56:10.660553Z"
    },
    "id": "9221bb69",
    "papermill": {
     "duration": 1.642226,
     "end_time": "2025-04-21T04:56:10.671546",
     "exception": false,
     "start_time": "2025-04-21T04:56:09.029320",
     "status": "completed"
    },
    "tags": []
   },
   "outputs": [],
   "source": [
    "import chromadb\n",
    "from chromadb import Documents, EmbeddingFunction\n",
    "from google.genai import types\n",
    "\n",
    "class GeminiEmbeddingFunction(EmbeddingFunction):\n",
    "    def __init__(self):\n",
    "        pass  # optional: initialize anything here later\n",
    "\n",
    "    def __call__(self, input: Documents):\n",
    "        response = client.models.embed_content(\n",
    "            model=\"models/text-embedding-004\",\n",
    "            contents=input,\n",
    "            config=types.EmbedContentConfig(task_type=\"semantic_similarity\")\n",
    "        )\n",
    "        return [e.values for e in response.embeddings]\n",
    "\n",
    "\n",
    "db = chromadb.Client().get_or_create_collection(\"jobs\", embedding_function=GeminiEmbeddingFunction())\n",
    "docs = [f\"{job['title']} at {job['company']} in {job['location']} posted on {job['posted']}\" for job in jobs]\n",
    "db.add(documents=docs, ids=[str(i) for i in range(len(jobs))])\n"
   ]
  },
  {
   "cell_type": "markdown",
   "id": "55e8ea0d",
   "metadata": {
    "id": "1d293d93",
    "papermill": {
     "duration": 0.005459,
     "end_time": "2025-04-21T04:56:10.680945",
     "exception": false,
     "start_time": "2025-04-21T04:56:10.675486",
     "status": "completed"
    },
    "tags": []
   },
   "source": [
    "## 👤 Define Candidate Profile"
   ]
  },
  {
   "cell_type": "code",
   "execution_count": 5,
   "id": "3d0acad5",
   "metadata": {
    "execution": {
     "iopub.execute_input": "2025-04-21T04:56:10.691860Z",
     "iopub.status.busy": "2025-04-21T04:56:10.691568Z",
     "iopub.status.idle": "2025-04-21T04:56:10.702125Z",
     "shell.execute_reply": "2025-04-21T04:56:10.697807Z"
    },
    "id": "10545867",
    "papermill": {
     "duration": 0.02034,
     "end_time": "2025-04-21T04:56:10.704710",
     "exception": false,
     "start_time": "2025-04-21T04:56:10.684370",
     "status": "completed"
    },
    "tags": []
   },
   "outputs": [],
   "source": [
    "user_profile = '''\n",
    "Data Scientist skilled in Python, machine learning, AI, NLP, TensorFlow, PyTorch, SQL, AWS, Azure, Google Cloud. Recently graduated.\n",
    "'''"
   ]
  },
  {
   "cell_type": "markdown",
   "id": "e4f090dd",
   "metadata": {
    "id": "0d82635e",
    "papermill": {
     "duration": 0.003202,
     "end_time": "2025-04-21T04:56:10.711422",
     "exception": false,
     "start_time": "2025-04-21T04:56:10.708220",
     "status": "completed"
    },
    "tags": []
   },
   "source": [
    "## 🚦 Prioritize and Recommend Jobs"
   ]
  },
  {
   "cell_type": "code",
   "execution_count": 6,
   "id": "b76d8dd7",
   "metadata": {
    "execution": {
     "iopub.execute_input": "2025-04-21T04:56:10.721858Z",
     "iopub.status.busy": "2025-04-21T04:56:10.721587Z",
     "iopub.status.idle": "2025-04-21T04:56:10.897160Z",
     "shell.execute_reply": "2025-04-21T04:56:10.891562Z"
    },
    "id": "6dec555f",
    "papermill": {
     "duration": 0.185667,
     "end_time": "2025-04-21T04:56:10.900134",
     "exception": false,
     "start_time": "2025-04-21T04:56:10.714467",
     "status": "completed"
    },
    "tags": []
   },
   "outputs": [],
   "source": [
    "def prioritize(job):\n",
    "    location_priority = [\"North York\", \"Toronto\", \"Remote\", \"Ontario\", \"Canada\"]\n",
    "    location_score = next((i+1 for i, loc in enumerate(location_priority) if loc.lower() in job[\"location\"].lower()), 6)\n",
    "    \n",
    "    from datetime import datetime\n",
    "    try:\n",
    "        days_ago = (datetime.now() - datetime.fromisoformat(job[\"posted\"])).days if \"T\" in job[\"posted\"] else 999\n",
    "    except Exception:\n",
    "        days_ago = 999\n",
    "\n",
    "    time_score = 1 if days_ago <= 1 else 2 if days_ago <= 7 else 3\n",
    "    return location_score, time_score\n",
    "\n",
    "# ✅ Safely limit to available jobs\n",
    "num_results = min(20, len(jobs))  # Adjust based on what's embedded\n",
    "\n",
    "query_result = db.query(query_texts=[user_profile], n_results=num_results)\n",
    "\n",
    "# ✅ Filter out invalid indices\n",
    "top_jobs = sorted(\n",
    "    [jobs[int(idx)] for idx in query_result[\"ids\"][0] if int(idx) < len(jobs)],\n",
    "    key=prioritize\n",
    ")\n"
   ]
  },
  {
   "cell_type": "markdown",
   "id": "b231eb41",
   "metadata": {
    "id": "d2507856",
    "papermill": {
     "duration": 0.003598,
     "end_time": "2025-04-21T04:56:10.907379",
     "exception": false,
     "start_time": "2025-04-21T04:56:10.903781",
     "status": "completed"
    },
    "tags": []
   },
   "source": [
    "## ✨ Generate Match Reasons (Top 5 Only to Respect API Quota)"
   ]
  },
  {
   "cell_type": "code",
   "execution_count": 7,
   "id": "8b495dac",
   "metadata": {
    "execution": {
     "iopub.execute_input": "2025-04-21T04:56:10.918123Z",
     "iopub.status.busy": "2025-04-21T04:56:10.917846Z",
     "iopub.status.idle": "2025-04-21T04:56:38.254752Z",
     "shell.execute_reply": "2025-04-21T04:56:38.248494Z"
    },
    "id": "7f557136",
    "papermill": {
     "duration": 27.346829,
     "end_time": "2025-04-21T04:56:38.257671",
     "exception": false,
     "start_time": "2025-04-21T04:56:10.910842",
     "status": "completed"
    },
    "tags": []
   },
   "outputs": [],
   "source": [
    "\n",
    "import time\n",
    "\n",
    "structured_recommendations = []\n",
    "for i, job in enumerate(top_jobs[:5]):\n",
    "    prompt = f'''\n",
    "    Candidate recently graduated, skilled in AI/ML/cloud. Job: {job}\n",
    "    Provide one concise sentence on match suitability.\n",
    "    '''\n",
    "    response = client.models.generate_content(model=\"gemini-2.0-flash\", contents=prompt)\n",
    "    structured_recommendations.append({\n",
    "        **job,\n",
    "        \"relevance_reason\": response.text.strip()\n",
    "    })\n",
    "    time.sleep(5)  # Avoid rate limit\n"
   ]
  },
  {
   "cell_type": "markdown",
   "id": "0b57c44a",
   "metadata": {
    "id": "014d722a",
    "papermill": {
     "duration": 0.003354,
     "end_time": "2025-04-21T04:56:38.264493",
     "exception": false,
     "start_time": "2025-04-21T04:56:38.261139",
     "status": "completed"
    },
    "tags": []
   },
   "source": [
    "## 🌟 Display Results in Styled HTML"
   ]
  },
  {
   "cell_type": "code",
   "execution_count": 8,
   "id": "219cedae",
   "metadata": {
    "execution": {
     "iopub.execute_input": "2025-04-21T04:56:38.275609Z",
     "iopub.status.busy": "2025-04-21T04:56:38.275327Z",
     "iopub.status.idle": "2025-04-21T04:56:40.004213Z",
     "shell.execute_reply": "2025-04-21T04:56:39.998053Z"
    },
    "id": "eda22045",
    "papermill": {
     "duration": 1.739039,
     "end_time": "2025-04-21T04:56:40.006799",
     "exception": false,
     "start_time": "2025-04-21T04:56:38.267760",
     "status": "completed"
    },
    "tags": []
   },
   "outputs": [
    {
     "data": {
      "text/html": [
       "\n",
       "<style>\n",
       "    body {background:#121212;color:white;}\n",
       "    table {width:100%;border-collapse:collapse;}\n",
       "    th,td {padding:10px;border:1px solid #444;}\n",
       "    th {background:#333;}\n",
       "    a {color:#4ea1ff;}\n",
       "</style>\n",
       "<table border=\"1\" class=\"dataframe\">\n",
       "  <thead>\n",
       "    <tr style=\"text-align: right;\">\n",
       "      <th>Title</th>\n",
       "      <th>Company</th>\n",
       "      <th>Location</th>\n",
       "      <th>Posted</th>\n",
       "      <th>Salary</th>\n",
       "      <th>Link</th>\n",
       "      <th>Relevance_Reason</th>\n",
       "    </tr>\n",
       "  </thead>\n",
       "  <tbody>\n",
       "    <tr>\n",
       "      <td>Data Scientist</td>\n",
       "      <td>Deloitte</td>\n",
       "      <td>Toronto, Ontario, Canada</td>\n",
       "      <td>2025-04-20</td>\n",
       "      <td>Not listed</td>\n",
       "      <td><a href=\"https://ca.linkedin.com/jobs/view/data-scientist-at-deloitte-4153442187?position=1&pageNum=0&refId=aHC0azvf00sVC85BQvvx%2BQ%3D%3D&trackingId=UZE5aXlj1SV00GA%2B9GX4iA%3D%3D\" target=\"_blank\">Job Link</a></td>\n",
       "      <td>This candidate's AI/ML/cloud skills align well with a Data Scientist role at Deloitte, making them potentially suitable despite being a recent graduate.</td>\n",
       "    </tr>\n",
       "    <tr>\n",
       "      <td>Data Scientist(GenAI)</td>\n",
       "      <td>Tiger Analytics</td>\n",
       "      <td>Toronto, Ontario, Canada</td>\n",
       "      <td>2025-04-10</td>\n",
       "      <td>Not listed</td>\n",
       "      <td><a href=\"https://ca.linkedin.com/jobs/view/data-scientist-genai-at-tiger-analytics-4205584308?position=9&pageNum=0&refId=aHC0azvf00sVC85BQvvx%2BQ%3D%3D&trackingId=wbfB2kHWZ05Lc%2Foqbi7r9w%3D%3D\" target=\"_blank\">Job Link</a></td>\n",
       "      <td>This candidate appears well-suited for the Data Scientist (GenAI) role given their recent graduation and AI/ML/cloud skills, aligning with the job's focus.</td>\n",
       "    </tr>\n",
       "    <tr>\n",
       "      <td>Data Scientist</td>\n",
       "      <td>LatentView Analytics</td>\n",
       "      <td>Toronto, Ontario, Canada</td>\n",
       "      <td>2025-04-04</td>\n",
       "      <td>Not listed</td>\n",
       "      <td><a href=\"https://ca.linkedin.com/jobs/view/data-scientist-at-latentview-analytics-4199746266?position=2&pageNum=0&refId=aHC0azvf00sVC85BQvvx%2BQ%3D%3D&trackingId=NnzfKAfNkJIBESTFeWZ%2FDw%3D%3D\" target=\"_blank\">Job Link</a></td>\n",
       "      <td>This candidate's AI/ML/cloud skills make them a potentially good fit for a Data Scientist role, especially if LatentView Analytics utilizes these technologies.</td>\n",
       "    </tr>\n",
       "    <tr>\n",
       "      <td>Data Scientist</td>\n",
       "      <td>Equifax</td>\n",
       "      <td>Toronto, Ontario, Canada</td>\n",
       "      <td>2025-04-01</td>\n",
       "      <td>Not listed</td>\n",
       "      <td><a href=\"https://ca.linkedin.com/jobs/view/data-scientist-at-equifax-4181484694?position=1&pageNum=2&refId=kCGt%2F38OgjwOIrCnolPAOw%3D%3D&trackingId=jswiLD2sVTBw%2Fcf%2B0JxoWQ%3D%3D\" target=\"_blank\">Job Link</a></td>\n",
       "      <td>This candidate's AI/ML/cloud skills make them a potentially good fit for the Data Scientist role at Equifax.</td>\n",
       "    </tr>\n",
       "    <tr>\n",
       "      <td>Data Scientist</td>\n",
       "      <td>Ample Insight</td>\n",
       "      <td>Toronto, Ontario, Canada</td>\n",
       "      <td>2025-03-25</td>\n",
       "      <td>Not listed</td>\n",
       "      <td><a href=\"https://ca.linkedin.com/jobs/view/data-scientist-at-ample-insight-4193194395?position=6&pageNum=0&refId=aHC0azvf00sVC85BQvvx%2BQ%3D%3D&trackingId=EkwXIyqOdW1vMDp7622qUg%3D%3D\" target=\"_blank\">Job Link</a></td>\n",
       "      <td>The candidate's AI/ML/cloud skills align well with a Data Scientist role, making them potentially suitable despite being a recent graduate.</td>\n",
       "    </tr>\n",
       "  </tbody>\n",
       "</table>\n"
      ],
      "text/plain": [
       "<IPython.core.display.HTML object>"
      ]
     },
     "execution_count": 8,
     "metadata": {},
     "output_type": "execute_result"
    }
   ],
   "source": [
    "\n",
    "import pandas as pd\n",
    "from IPython.display import HTML\n",
    "\n",
    "df = pd.DataFrame(structured_recommendations)\n",
    "df['link'] = df['link'].apply(lambda x: f'<a href=\"{x}\" target=\"_blank\">Job Link</a>')\n",
    "df = df[['title', 'company', 'location', 'posted', 'salary', 'link', 'relevance_reason']].rename(columns=str.title).sort_values('Posted', ascending=False)\n",
    "\n",
    "styled_html = f'''\n",
    "<style>\n",
    "    body {{background:#121212;color:white;}}\n",
    "    table {{width:100%;border-collapse:collapse;}}\n",
    "    th,td {{padding:10px;border:1px solid #444;}}\n",
    "    th {{background:#333;}}\n",
    "    a {{color:#4ea1ff;}}\n",
    "</style>\n",
    "{df.to_html(escape=False, index=False)}\n",
    "'''\n",
    "HTML(styled_html)\n"
   ]
  }
 ],
 "metadata": {
  "colab": {
   "provenance": []
  },
  "kaggle": {
   "accelerator": "tpu1vmV38",
   "dataSources": [
    {
     "sourceId": 97258,
     "sourceType": "competition"
    }
   ],
   "dockerImageVersionId": 31012,
   "isGpuEnabled": false,
   "isInternetEnabled": true,
   "language": "python",
   "sourceType": "notebook"
  },
  "kernelspec": {
   "display_name": "Python 3",
   "language": "python",
   "name": "python3"
  },
  "language_info": {
   "codemirror_mode": {
    "name": "ipython",
    "version": 3
   },
   "file_extension": ".py",
   "mimetype": "text/x-python",
   "name": "python",
   "nbconvert_exporter": "python",
   "pygments_lexer": "ipython3",
   "version": "3.10.16"
  },
  "papermill": {
   "default_parameters": {},
   "duration": 64.964162,
   "end_time": "2025-04-21T04:56:40.733344",
   "environment_variables": {},
   "exception": null,
   "input_path": "__notebook__.ipynb",
   "output_path": "__notebook__.ipynb",
   "parameters": {},
   "start_time": "2025-04-21T04:55:35.769182",
   "version": "2.6.0"
  }
 },
 "nbformat": 4,
 "nbformat_minor": 5
}
